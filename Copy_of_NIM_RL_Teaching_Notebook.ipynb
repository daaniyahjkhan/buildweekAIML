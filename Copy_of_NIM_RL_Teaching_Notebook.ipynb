{
  "cells": [
    {
      "cell_type": "markdown",
      "metadata": {
        "id": "view-in-github",
        "colab_type": "text"
      },
      "source": [
        "<a href=\"https://colab.research.google.com/github/daaniyahjkhan/buildweekAIML/blob/main/Copy_of_NIM_RL_Teaching_Notebook.ipynb\" target=\"_parent\"><img src=\"https://colab.research.google.com/assets/colab-badge.svg\" alt=\"Open In Colab\"/></a>"
      ]
    },
    {
      "cell_type": "markdown",
      "id": "d0ea81d7",
      "metadata": {
        "id": "d0ea81d7"
      },
      "source": [
        "# 🧠 Reinforcement Learning with the NIM Game\n",
        "Let's teach our AI how to win a simple game using Q-learning."
      ]
    },
    {
      "cell_type": "markdown",
      "id": "2326000a",
      "metadata": {
        "id": "2326000a"
      },
      "source": [
        "## 🎮 The NIM Game Rules\n",
        "- Start with 21 sticks.\n",
        "- Each player takes 1, 2, or 3 sticks on their turn.\n",
        "- The player who takes the **last stick loses**.\n",
        "\n",
        "We'll train an AI to get smarter over time!"
      ]
    },
    {
      "cell_type": "code",
      "execution_count": 2,
      "id": "d6b59538",
      "metadata": {
        "id": "d6b59538"
      },
      "outputs": [],
      "source": [
        "MAX_STICKS = 21\n",
        "ACTIONS = [1, 2, 3, 4]"
      ]
    },
    {
      "cell_type": "markdown",
      "id": "598d7dad",
      "metadata": {
        "id": "598d7dad"
      },
      "source": [
        "## 🧠 Step 1: Create a Q-table\n",
        "We’ll use a dictionary to store the AI’s knowledge — the expected value (Q) of taking each action in every possible state."
      ]
    },
    {
      "cell_type": "code",
      "execution_count": 3,
      "id": "0ab88528",
      "metadata": {
        "id": "0ab88528"
      },
      "outputs": [],
      "source": [
        "Q = {}"
      ]
    },
    {
      "cell_type": "markdown",
      "id": "3c985115",
      "metadata": {
        "id": "3c985115"
      },
      "source": [
        "## 🎲 Step 2: Action Choice\n",
        "Let’s write a function that chooses an action. We’ll use **epsilon-greedy** — random at first, smarter later."
      ]
    },
    {
      "cell_type": "code",
      "execution_count": 5,
      "id": "e717bdea",
      "metadata": {
        "id": "e717bdea"
      },
      "outputs": [],
      "source": [
        "\n",
        "import random\n",
        "\n",
        "def choose_action(state, epsilon):\n",
        "    if state not in Q:\n",
        "        Q[state] = {a: 0 for a in ACTIONS}\n",
        "    if random.random() < epsilon:\n",
        "        return random.choice([a for a in ACTIONS if a <= state])\n",
        "    return min(Q[state], key=Q[state].get)#here\n",
        "\n"
      ]
    },
    {
      "cell_type": "markdown",
      "id": "9d01dfae",
      "metadata": {
        "id": "9d01dfae"
      },
      "source": [
        "## 💡 Step 3: Q-Value Update Rule\n",
        "We’ll update the Q-values using this formula:\n",
        "```\n",
        "Q(s,a) = Q(s,a) + alpha * (reward + gamma * max(Q(s') - Q(s,a))\n",
        "```"
      ]
    },
    {
      "cell_type": "code",
      "execution_count": 6,
      "id": "d3ed83b9",
      "metadata": {
        "id": "d3ed83b9"
      },
      "outputs": [],
      "source": [
        "\n",
        "def update_q(state, action, reward, next_state, alpha=0.1, gamma=0.9):\n",
        "    if state not in Q:\n",
        "        Q[state] = {a: 0 for a in ACTIONS}\n",
        "    if next_state not in Q:\n",
        "        Q[next_state] = {a: 0 for a in ACTIONS}\n",
        "    max_q_next = min(Q[next_state].values())#here\n",
        "    Q[state][action] += alpha * (reward + gamma * max_q_next - Q[state][action])\n"
      ]
    },
    {
      "cell_type": "markdown",
      "id": "5302fc2c",
      "metadata": {
        "id": "5302fc2c"
      },
      "source": [
        "## 🔁 Step 4: Training Loop\n",
        "Now we’ll play lots of games where the AI learns from experience."
      ]
    },
    {
      "cell_type": "code",
      "execution_count": 8,
      "id": "2fe1d694",
      "metadata": {
        "id": "2fe1d694"
      },
      "outputs": [],
      "source": [
        "def train(episodes=10000, epsilon=0.3, alpha=0.1, gamma=0.9):\n",
        "    for _ in range(episodes):\n",
        "        state = MAX_STICKS\n",
        "        last_state, last_action = None, None\n",
        "\n",
        "        while state > 0:\n",
        "            action = choose_action(state, epsilon)\n",
        "            next_state = state - action\n",
        "\n",
        "            if last_state is not None:\n",
        "                update_q(last_state, last_action, 0, state, alpha, gamma)\n",
        "\n",
        "            last_state = state\n",
        "            last_action = action\n",
        "\n",
        "            if next_state == 0:\n",
        "                update_q(state, action, 1, next_state, alpha, gamma)#here\n",
        "                break\n",
        "\n",
        "            valid_opponent_actions = [a for a in ACTIONS if a <= next_state]\n",
        "            if not valid_opponent_actions:\n",
        "                update_q(last_state, last_action, 0, next_state, alpha, gamma)\n",
        "                break\n",
        "\n",
        "            opponent_action = random.choice(valid_opponent_actions)\n",
        "            state = next_state - opponent_action\n",
        "\n",
        "            if state <= 0:\n",
        "                update_q(last_state, last_action, -1, next_state, alpha, gamma)#here\n",
        "                break\n"
      ]
    },
    {
      "cell_type": "markdown",
      "id": "63bf4e99",
      "metadata": {
        "id": "63bf4e99"
      },
      "source": [
        "## 🚀 Train the AI!"
      ]
    },
    {
      "cell_type": "code",
      "execution_count": 9,
      "id": "0c4b8ebe",
      "metadata": {
        "id": "0c4b8ebe"
      },
      "outputs": [],
      "source": [
        "train()"
      ]
    },
    {
      "cell_type": "code",
      "source": [
        "print(Q)"
      ],
      "metadata": {
        "colab": {
          "base_uri": "https://localhost:8080/"
        },
        "id": "nGmkPcQFjQt5",
        "outputId": "7f8b58f3-6bd1-4fde-eab9-e69c9cfc6812"
      },
      "id": "nGmkPcQFjQt5",
      "execution_count": 10,
      "outputs": [
        {
          "output_type": "stream",
          "name": "stdout",
          "text": [
            "{21: {1: -0.7003215249421911, 2: -0.7215801515924087, 3: -0.7465234484773017, 4: -0.770468113762695}, 15: {1: -0.7889124333997404, 2: -0.7978252512354524, 3: -0.8150790001284299, 4: -0.8698373772752374}, 11: {1: -0.802385965003625, 2: -0.8294576993863876, 3: -0.853818318124913, 4: -0.8949199229285516}, 9: {1: -0.8639762306323282, 2: -0.8966120399327397, 3: -0.9031224956349677, 4: -0.7659557935077566}, 5: {1: -0.7915911731114064, 2: -0.8436305547009575, 3: -0.9512926195644567, 4: -0.9999999999999996}, 3: {1: -1.015739343434459, 2: -0.9999999999999996, 3: 0.9999999999544168, 4: 0}, 19: {1: -0.5276586892922396, 2: -0.5350186832937612, 3: -0.7617135507251342, 4: -0.545246554413719}, 16: {1: -0.7783645333007905, 2: -0.7871736867380739, 3: -0.8002517885955431, 4: -0.8340459549310305}, 7: {1: -0.9072058210580198, 2: -0.7914194532920034, 3: -0.977699912814908, 4: -0.6714039516171103}, 4: {1: -0.9856036932600014, 2: -0.6503662041146229, 3: -0.9999999999999996, 4: 0.9999998309981739}, 2: {1: -0.9999999999999996, 2: 0.999999999999999, 3: 0, 4: 0}, 1: {1: 0.9999999999999996, 2: 0.0, 3: 0, 4: 0}, 18: {1: -0.698067119623978, 2: -0.7634347196525325, 3: -0.7383026654283412, 4: -0.7269643926685917}, 6: {1: -0.5561026272916747, 2: -0.7720163374419902, 3: -1.1865161997401485, 4: -0.534950538930412}, 0: {1: 0, 2: 0, 3: 0, 4: 0}, 12: {1: -0.8251972497513209, 2: -0.8224991152628138, 3: -0.8360406839692555, 4: -0.8800935632062726}, -1: {1: 0, 2: 0, 3: 0, 4: 0}, 13: {1: -0.8106935066890142, 2: -0.8666796930003824, 3: -0.8424077120742198, 4: -0.9062349631393967}, 10: {1: -0.8714824894771354, 2: -0.8756090302748111, 3: -0.8941127755508893, 4: -0.9049028914839553}, 8: {1: -0.8903358340292036, 2: -0.9028171906925639, 3: -0.5810274676742061, 4: -0.8925424010664397}, 17: {1: -0.7402974201783327, 2: -0.7451860725989043, 3: -0.7987493310468919, 4: -0.7664238043797736}, 14: {1: -0.8050118602812493, 2: -0.8143290660995187, 3: -0.8305281988211538, 4: -0.8311370797070633}}\n"
          ]
        }
      ]
    },
    {
      "cell_type": "markdown",
      "id": "2c30e744",
      "metadata": {
        "id": "2c30e744"
      },
      "source": [
        "## 🧪 Let’s play against the AI!"
      ]
    },
    {
      "cell_type": "code",
      "execution_count": 12,
      "id": "24fb8cf3",
      "metadata": {
        "id": "24fb8cf3"
      },
      "outputs": [],
      "source": [
        "\n",
        "def play():\n",
        "    state = MAX_STICKS\n",
        "    while state > 0:\n",
        "        print(f\"Sticks left: {state}\")\n",
        "        move = int(input(\"Your move (1–3): \"))\n",
        "        state -= move\n",
        "        if state <= 0:\n",
        "            print(\"You took the last stick. You lose!\")\n",
        "            return\n",
        "        if state in Q:\n",
        "            ai_move = min(Q[state], key=Q[state].get)#here\n",
        "        else:\n",
        "            ai_move = random.choice([a for a in ACTIONS if a <= state])\n",
        "        print(f\"AI takes {ai_move} stick(s).\")\n",
        "        state -= ai_move\n",
        "        if state <= 0:\n",
        "            print(\"AI took the last stick. You win!\")\n",
        "            return\n"
      ]
    },
    {
      "cell_type": "code",
      "execution_count": 15,
      "id": "e912145f",
      "metadata": {
        "colab": {
          "base_uri": "https://localhost:8080/"
        },
        "id": "e912145f",
        "outputId": "570d86e9-63d4-4eca-fc0a-a65e15b48d7a"
      },
      "outputs": [
        {
          "output_type": "stream",
          "name": "stdout",
          "text": [
            "Sticks left: 21\n",
            "Your move (1–3): 1\n",
            "AI takes 3 stick(s).\n",
            "Sticks left: 17\n",
            "Your move (1–3): 2\n",
            "AI takes 4 stick(s).\n",
            "Sticks left: 11\n",
            "Your move (1–3): 3\n",
            "AI takes 2 stick(s).\n",
            "Sticks left: 6\n",
            "Your move (1–3): 3\n",
            "AI takes 1 stick(s).\n",
            "Sticks left: 2\n",
            "Your move (1–3): 1\n",
            "AI takes 2 stick(s).\n",
            "AI took the last stick. You win!\n"
          ]
        }
      ],
      "source": [
        "play()\n"
      ]
    },
    {
      "cell_type": "markdown",
      "id": "cc857d07",
      "metadata": {
        "id": "cc857d07"
      },
      "source": [
        "## 🎉 Summary\n",
        "You just trained an agent to play a game using trial-and-error. That’s the magic of Reinforcement Learning!"
      ]
    }
  ],
  "metadata": {
    "kernelspec": {
      "display_name": "Python 3",
      "language": "python",
      "name": "python3"
    },
    "language": "python",
    "language_info": {
      "codemirror_mode": {
        "name": "ipython",
        "version": 3
      },
      "file_extension": ".py",
      "mimetype": "text/x-python",
      "name": "python",
      "nbconvert_exporter": "python",
      "pygments_lexer": "ipython3",
      "version": "3.12.6"
    },
    "colab": {
      "provenance": [],
      "include_colab_link": true
    }
  },
  "nbformat": 4,
  "nbformat_minor": 5
}